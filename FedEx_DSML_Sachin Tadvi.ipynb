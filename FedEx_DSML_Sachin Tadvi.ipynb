{
 "cells": [
  {
   "cell_type": "markdown",
   "id": "f44c590a",
   "metadata": {},
   "source": [
    "# IMPORT IMPORTANT LIBRARIES"
   ]
  },
  {
   "cell_type": "code",
   "execution_count": 339,
   "id": "d5fd10dd",
   "metadata": {},
   "outputs": [],
   "source": [
    "import pandas as pd  ### to handle dataframe\n",
    "import numpy as np   ### to perform numeric operation\n",
    "import matplotlib.pyplot as plt  ### for visualization\n",
    "import seaborn as sns ### for visualization\n",
    "\n",
    "from sklearn.model_selection import train_test_split   ### for splitting the data\n",
    "from sklearn.preprocessing import StandardScaler       ### normalize the data\n",
    "from sklearn.metrics import accuracy_score             ### to get accuracy score\n",
    "\n",
    "from sklearn.linear_model import LogisticRegression    ### logistic regression\n",
    "from sklearn.neighbors import KNeighborsClassifier     ### knn\n",
    "from sklearn.tree import DecisionTreeClassifier        ### Decision tree\n",
    "from sklearn.ensemble import RandomForestClassifier    ### Random Forest\n",
    "from sklearn.svm import SVC                            ### Support vector machine\n",
    "\n",
    "from sklearn.model_selection import cross_val_score    ### for cross validation\n",
    "from sklearn.metrics import roc_curve,auc              ### roc and auc"
   ]
  },
  {
   "cell_type": "markdown",
   "id": "709723e5",
   "metadata": {},
   "source": [
    "# READING DATA"
   ]
  },
  {
   "cell_type": "code",
   "execution_count": 192,
   "id": "0f6dc670",
   "metadata": {},
   "outputs": [],
   "source": [
    "! pip install openpyxl ### to read (.xlsx) file first we have to install this library\n",
    "\n",
    "df = pd.read_excel('train.xlsx') ### reading data"
   ]
  },
  {
   "cell_type": "code",
   "execution_count": 193,
   "id": "ccc623a5",
   "metadata": {},
   "outputs": [
    {
     "data": {
      "text/html": [
       "<div>\n",
       "<style scoped>\n",
       "    .dataframe tbody tr th:only-of-type {\n",
       "        vertical-align: middle;\n",
       "    }\n",
       "\n",
       "    .dataframe tbody tr th {\n",
       "        vertical-align: top;\n",
       "    }\n",
       "\n",
       "    .dataframe thead th {\n",
       "        text-align: right;\n",
       "    }\n",
       "</style>\n",
       "<table border=\"1\" class=\"dataframe\">\n",
       "  <thead>\n",
       "    <tr style=\"text-align: right;\">\n",
       "      <th></th>\n",
       "      <th>Index</th>\n",
       "      <th>BI_RADS</th>\n",
       "      <th>Age</th>\n",
       "      <th>Shape</th>\n",
       "      <th>Margin</th>\n",
       "      <th>Mass_Density</th>\n",
       "      <th>Severity</th>\n",
       "    </tr>\n",
       "  </thead>\n",
       "  <tbody>\n",
       "    <tr>\n",
       "      <th>0</th>\n",
       "      <td>1</td>\n",
       "      <td>5.0</td>\n",
       "      <td>67.0</td>\n",
       "      <td>lobular</td>\n",
       "      <td>spiculated</td>\n",
       "      <td>low</td>\n",
       "      <td>1</td>\n",
       "    </tr>\n",
       "    <tr>\n",
       "      <th>1</th>\n",
       "      <td>2</td>\n",
       "      <td>4.0</td>\n",
       "      <td>43.0</td>\n",
       "      <td>round</td>\n",
       "      <td>circumscribed</td>\n",
       "      <td>NaN</td>\n",
       "      <td>1</td>\n",
       "    </tr>\n",
       "    <tr>\n",
       "      <th>2</th>\n",
       "      <td>3</td>\n",
       "      <td>5.0</td>\n",
       "      <td>58.0</td>\n",
       "      <td>irregular</td>\n",
       "      <td>spiculated</td>\n",
       "      <td>low</td>\n",
       "      <td>1</td>\n",
       "    </tr>\n",
       "    <tr>\n",
       "      <th>3</th>\n",
       "      <td>4</td>\n",
       "      <td>4.0</td>\n",
       "      <td>28.0</td>\n",
       "      <td>round</td>\n",
       "      <td>circumscribed</td>\n",
       "      <td>low</td>\n",
       "      <td>0</td>\n",
       "    </tr>\n",
       "    <tr>\n",
       "      <th>4</th>\n",
       "      <td>5</td>\n",
       "      <td>5.0</td>\n",
       "      <td>74.0</td>\n",
       "      <td>round</td>\n",
       "      <td>spiculated</td>\n",
       "      <td>NaN</td>\n",
       "      <td>1</td>\n",
       "    </tr>\n",
       "    <tr>\n",
       "      <th>...</th>\n",
       "      <td>...</td>\n",
       "      <td>...</td>\n",
       "      <td>...</td>\n",
       "      <td>...</td>\n",
       "      <td>...</td>\n",
       "      <td>...</td>\n",
       "      <td>...</td>\n",
       "    </tr>\n",
       "    <tr>\n",
       "      <th>806</th>\n",
       "      <td>807</td>\n",
       "      <td>5.0</td>\n",
       "      <td>62.0</td>\n",
       "      <td>irregular</td>\n",
       "      <td>ill-defined</td>\n",
       "      <td>iso</td>\n",
       "      <td>1</td>\n",
       "    </tr>\n",
       "    <tr>\n",
       "      <th>807</th>\n",
       "      <td>808</td>\n",
       "      <td>4.0</td>\n",
       "      <td>56.0</td>\n",
       "      <td>oval</td>\n",
       "      <td>circumscribed</td>\n",
       "      <td>low</td>\n",
       "      <td>0</td>\n",
       "    </tr>\n",
       "    <tr>\n",
       "      <th>808</th>\n",
       "      <td>809</td>\n",
       "      <td>5.0</td>\n",
       "      <td>58.0</td>\n",
       "      <td>irregular</td>\n",
       "      <td>ill-defined</td>\n",
       "      <td>low</td>\n",
       "      <td>1</td>\n",
       "    </tr>\n",
       "    <tr>\n",
       "      <th>809</th>\n",
       "      <td>810</td>\n",
       "      <td>4.0</td>\n",
       "      <td>NaN</td>\n",
       "      <td>round</td>\n",
       "      <td>ill-defined</td>\n",
       "      <td>low</td>\n",
       "      <td>0</td>\n",
       "    </tr>\n",
       "    <tr>\n",
       "      <th>810</th>\n",
       "      <td>811</td>\n",
       "      <td>5.0</td>\n",
       "      <td>75.0</td>\n",
       "      <td>irregular</td>\n",
       "      <td>spiculated</td>\n",
       "      <td>low</td>\n",
       "      <td>1</td>\n",
       "    </tr>\n",
       "  </tbody>\n",
       "</table>\n",
       "<p>811 rows × 7 columns</p>\n",
       "</div>"
      ],
      "text/plain": [
       "     Index  BI_RADS   Age      Shape         Margin Mass_Density  Severity\n",
       "0        1      5.0  67.0    lobular     spiculated          low         1\n",
       "1        2      4.0  43.0      round  circumscribed          NaN         1\n",
       "2        3      5.0  58.0  irregular     spiculated          low         1\n",
       "3        4      4.0  28.0      round  circumscribed          low         0\n",
       "4        5      5.0  74.0      round     spiculated          NaN         1\n",
       "..     ...      ...   ...        ...            ...          ...       ...\n",
       "806    807      5.0  62.0  irregular    ill-defined          iso         1\n",
       "807    808      4.0  56.0       oval  circumscribed          low         0\n",
       "808    809      5.0  58.0  irregular    ill-defined          low         1\n",
       "809    810      4.0   NaN      round    ill-defined          low         0\n",
       "810    811      5.0  75.0  irregular     spiculated          low         1\n",
       "\n",
       "[811 rows x 7 columns]"
      ]
     },
     "execution_count": 193,
     "metadata": {},
     "output_type": "execute_result"
    }
   ],
   "source": [
    "df   "
   ]
  },
  {
   "cell_type": "markdown",
   "id": "bcb5709e",
   "metadata": {},
   "source": [
    "# EDA + FEATURE ENGINEERING"
   ]
  },
  {
   "cell_type": "code",
   "execution_count": 194,
   "id": "741ad55e",
   "metadata": {},
   "outputs": [
    {
     "name": "stdout",
     "output_type": "stream",
     "text": [
      "<class 'pandas.core.frame.DataFrame'>\n",
      "RangeIndex: 811 entries, 0 to 810\n",
      "Data columns (total 7 columns):\n",
      " #   Column        Non-Null Count  Dtype  \n",
      "---  ------        --------------  -----  \n",
      " 0   Index         811 non-null    int64  \n",
      " 1   BI_RADS       809 non-null    float64\n",
      " 2   Age           723 non-null    float64\n",
      " 3   Shape         781 non-null    object \n",
      " 4   Margin        764 non-null    object \n",
      " 5   Mass_Density  735 non-null    object \n",
      " 6   Severity      811 non-null    int64  \n",
      "dtypes: float64(2), int64(2), object(3)\n",
      "memory usage: 44.5+ KB\n"
     ]
    }
   ],
   "source": [
    "df.info()   ### to get all information about dataframe"
   ]
  },
  {
   "cell_type": "code",
   "execution_count": 195,
   "id": "deb9c114",
   "metadata": {},
   "outputs": [
    {
     "data": {
      "text/html": [
       "<div>\n",
       "<style scoped>\n",
       "    .dataframe tbody tr th:only-of-type {\n",
       "        vertical-align: middle;\n",
       "    }\n",
       "\n",
       "    .dataframe tbody tr th {\n",
       "        vertical-align: top;\n",
       "    }\n",
       "\n",
       "    .dataframe thead th {\n",
       "        text-align: right;\n",
       "    }\n",
       "</style>\n",
       "<table border=\"1\" class=\"dataframe\">\n",
       "  <thead>\n",
       "    <tr style=\"text-align: right;\">\n",
       "      <th></th>\n",
       "      <th>Index</th>\n",
       "      <th>BI_RADS</th>\n",
       "      <th>Age</th>\n",
       "      <th>Shape</th>\n",
       "      <th>Margin</th>\n",
       "      <th>Mass_Density</th>\n",
       "      <th>Severity</th>\n",
       "    </tr>\n",
       "  </thead>\n",
       "  <tbody>\n",
       "    <tr>\n",
       "      <th>count</th>\n",
       "      <td>811.000000</td>\n",
       "      <td>809.000000</td>\n",
       "      <td>723.000000</td>\n",
       "      <td>781</td>\n",
       "      <td>764</td>\n",
       "      <td>735</td>\n",
       "      <td>811.000000</td>\n",
       "    </tr>\n",
       "    <tr>\n",
       "      <th>unique</th>\n",
       "      <td>NaN</td>\n",
       "      <td>NaN</td>\n",
       "      <td>NaN</td>\n",
       "      <td>4</td>\n",
       "      <td>5</td>\n",
       "      <td>4</td>\n",
       "      <td>NaN</td>\n",
       "    </tr>\n",
       "    <tr>\n",
       "      <th>top</th>\n",
       "      <td>NaN</td>\n",
       "      <td>NaN</td>\n",
       "      <td>NaN</td>\n",
       "      <td>irregular</td>\n",
       "      <td>circumscribed</td>\n",
       "      <td>low</td>\n",
       "      <td>NaN</td>\n",
       "    </tr>\n",
       "    <tr>\n",
       "      <th>freq</th>\n",
       "      <td>NaN</td>\n",
       "      <td>NaN</td>\n",
       "      <td>NaN</td>\n",
       "      <td>340</td>\n",
       "      <td>298</td>\n",
       "      <td>663</td>\n",
       "      <td>NaN</td>\n",
       "    </tr>\n",
       "    <tr>\n",
       "      <th>mean</th>\n",
       "      <td>406.000000</td>\n",
       "      <td>4.379481</td>\n",
       "      <td>55.887967</td>\n",
       "      <td>NaN</td>\n",
       "      <td>NaN</td>\n",
       "      <td>NaN</td>\n",
       "      <td>0.459926</td>\n",
       "    </tr>\n",
       "    <tr>\n",
       "      <th>std</th>\n",
       "      <td>234.259827</td>\n",
       "      <td>1.914800</td>\n",
       "      <td>16.886616</td>\n",
       "      <td>NaN</td>\n",
       "      <td>NaN</td>\n",
       "      <td>NaN</td>\n",
       "      <td>0.498699</td>\n",
       "    </tr>\n",
       "    <tr>\n",
       "      <th>min</th>\n",
       "      <td>1.000000</td>\n",
       "      <td>0.000000</td>\n",
       "      <td>5.000000</td>\n",
       "      <td>NaN</td>\n",
       "      <td>NaN</td>\n",
       "      <td>NaN</td>\n",
       "      <td>0.000000</td>\n",
       "    </tr>\n",
       "    <tr>\n",
       "      <th>25%</th>\n",
       "      <td>203.500000</td>\n",
       "      <td>4.000000</td>\n",
       "      <td>45.000000</td>\n",
       "      <td>NaN</td>\n",
       "      <td>NaN</td>\n",
       "      <td>NaN</td>\n",
       "      <td>0.000000</td>\n",
       "    </tr>\n",
       "    <tr>\n",
       "      <th>50%</th>\n",
       "      <td>406.000000</td>\n",
       "      <td>4.000000</td>\n",
       "      <td>56.000000</td>\n",
       "      <td>NaN</td>\n",
       "      <td>NaN</td>\n",
       "      <td>NaN</td>\n",
       "      <td>0.000000</td>\n",
       "    </tr>\n",
       "    <tr>\n",
       "      <th>75%</th>\n",
       "      <td>608.500000</td>\n",
       "      <td>5.000000</td>\n",
       "      <td>66.000000</td>\n",
       "      <td>NaN</td>\n",
       "      <td>NaN</td>\n",
       "      <td>NaN</td>\n",
       "      <td>1.000000</td>\n",
       "    </tr>\n",
       "    <tr>\n",
       "      <th>max</th>\n",
       "      <td>811.000000</td>\n",
       "      <td>55.000000</td>\n",
       "      <td>130.000000</td>\n",
       "      <td>NaN</td>\n",
       "      <td>NaN</td>\n",
       "      <td>NaN</td>\n",
       "      <td>1.000000</td>\n",
       "    </tr>\n",
       "  </tbody>\n",
       "</table>\n",
       "</div>"
      ],
      "text/plain": [
       "             Index     BI_RADS         Age      Shape         Margin  \\\n",
       "count   811.000000  809.000000  723.000000        781            764   \n",
       "unique         NaN         NaN         NaN          4              5   \n",
       "top            NaN         NaN         NaN  irregular  circumscribed   \n",
       "freq           NaN         NaN         NaN        340            298   \n",
       "mean    406.000000    4.379481   55.887967        NaN            NaN   \n",
       "std     234.259827    1.914800   16.886616        NaN            NaN   \n",
       "min       1.000000    0.000000    5.000000        NaN            NaN   \n",
       "25%     203.500000    4.000000   45.000000        NaN            NaN   \n",
       "50%     406.000000    4.000000   56.000000        NaN            NaN   \n",
       "75%     608.500000    5.000000   66.000000        NaN            NaN   \n",
       "max     811.000000   55.000000  130.000000        NaN            NaN   \n",
       "\n",
       "       Mass_Density    Severity  \n",
       "count           735  811.000000  \n",
       "unique            4         NaN  \n",
       "top             low         NaN  \n",
       "freq            663         NaN  \n",
       "mean            NaN    0.459926  \n",
       "std             NaN    0.498699  \n",
       "min             NaN    0.000000  \n",
       "25%             NaN    0.000000  \n",
       "50%             NaN    0.000000  \n",
       "75%             NaN    1.000000  \n",
       "max             NaN    1.000000  "
      ]
     },
     "execution_count": 195,
     "metadata": {},
     "output_type": "execute_result"
    }
   ],
   "source": [
    "df.describe(include='all')     "
   ]
  },
  {
   "cell_type": "markdown",
   "id": "526e033f",
   "metadata": {},
   "source": [
    "### HANDELING MISSING VALUES"
   ]
  },
  {
   "cell_type": "markdown",
   "id": "98f14f31",
   "metadata": {},
   "source": [
    "### QUESTION NO  - 9"
   ]
  },
  {
   "cell_type": "markdown",
   "id": "366b2fe5",
   "metadata": {},
   "source": [
    "**Q - What techniques have been used for treating missing values to prepare features for model building?**\n",
    "\n",
    "**Ans** - Handeling missing values totally depend on type of data \n",
    "\n",
    "     1 - if the data is continous numerical data then we can use imputation method in which we replace the nan values with                \n",
    "         mean,median or mode values.\n",
    "         \n",
    "     2 - if the data is categorical data then we replace nan values with other categorical data\n",
    "         \n",
    "         - if the number of missing value is less then we replace the missing values with most frequent category\n",
    "         \n",
    "         - if the number of missing values is more then we replace the missing values with new category\n",
    "      "
   ]
  },
  {
   "cell_type": "code",
   "execution_count": 338,
   "id": "165e9f38",
   "metadata": {},
   "outputs": [
    {
     "data": {
      "text/html": [
       "<div>\n",
       "<style scoped>\n",
       "    .dataframe tbody tr th:only-of-type {\n",
       "        vertical-align: middle;\n",
       "    }\n",
       "\n",
       "    .dataframe tbody tr th {\n",
       "        vertical-align: top;\n",
       "    }\n",
       "\n",
       "    .dataframe thead th {\n",
       "        text-align: right;\n",
       "    }\n",
       "</style>\n",
       "<table border=\"1\" class=\"dataframe\">\n",
       "  <thead>\n",
       "    <tr style=\"text-align: right;\">\n",
       "      <th></th>\n",
       "      <th>Age</th>\n",
       "      <th>Shape</th>\n",
       "      <th>Margin</th>\n",
       "      <th>Mass_Density</th>\n",
       "      <th>Severity</th>\n",
       "    </tr>\n",
       "  </thead>\n",
       "  <tbody>\n",
       "    <tr>\n",
       "      <th>0</th>\n",
       "      <td>False</td>\n",
       "      <td>False</td>\n",
       "      <td>False</td>\n",
       "      <td>False</td>\n",
       "      <td>False</td>\n",
       "    </tr>\n",
       "    <tr>\n",
       "      <th>1</th>\n",
       "      <td>False</td>\n",
       "      <td>False</td>\n",
       "      <td>False</td>\n",
       "      <td>False</td>\n",
       "      <td>False</td>\n",
       "    </tr>\n",
       "    <tr>\n",
       "      <th>2</th>\n",
       "      <td>False</td>\n",
       "      <td>False</td>\n",
       "      <td>False</td>\n",
       "      <td>False</td>\n",
       "      <td>False</td>\n",
       "    </tr>\n",
       "    <tr>\n",
       "      <th>3</th>\n",
       "      <td>False</td>\n",
       "      <td>False</td>\n",
       "      <td>False</td>\n",
       "      <td>False</td>\n",
       "      <td>False</td>\n",
       "    </tr>\n",
       "    <tr>\n",
       "      <th>4</th>\n",
       "      <td>False</td>\n",
       "      <td>False</td>\n",
       "      <td>False</td>\n",
       "      <td>False</td>\n",
       "      <td>False</td>\n",
       "    </tr>\n",
       "    <tr>\n",
       "      <th>...</th>\n",
       "      <td>...</td>\n",
       "      <td>...</td>\n",
       "      <td>...</td>\n",
       "      <td>...</td>\n",
       "      <td>...</td>\n",
       "    </tr>\n",
       "    <tr>\n",
       "      <th>806</th>\n",
       "      <td>False</td>\n",
       "      <td>False</td>\n",
       "      <td>False</td>\n",
       "      <td>False</td>\n",
       "      <td>False</td>\n",
       "    </tr>\n",
       "    <tr>\n",
       "      <th>807</th>\n",
       "      <td>False</td>\n",
       "      <td>False</td>\n",
       "      <td>False</td>\n",
       "      <td>False</td>\n",
       "      <td>False</td>\n",
       "    </tr>\n",
       "    <tr>\n",
       "      <th>808</th>\n",
       "      <td>False</td>\n",
       "      <td>False</td>\n",
       "      <td>False</td>\n",
       "      <td>False</td>\n",
       "      <td>False</td>\n",
       "    </tr>\n",
       "    <tr>\n",
       "      <th>809</th>\n",
       "      <td>False</td>\n",
       "      <td>False</td>\n",
       "      <td>False</td>\n",
       "      <td>False</td>\n",
       "      <td>False</td>\n",
       "    </tr>\n",
       "    <tr>\n",
       "      <th>810</th>\n",
       "      <td>False</td>\n",
       "      <td>False</td>\n",
       "      <td>False</td>\n",
       "      <td>False</td>\n",
       "      <td>False</td>\n",
       "    </tr>\n",
       "  </tbody>\n",
       "</table>\n",
       "<p>811 rows × 5 columns</p>\n",
       "</div>"
      ],
      "text/plain": [
       "       Age  Shape  Margin  Mass_Density  Severity\n",
       "0    False  False   False         False     False\n",
       "1    False  False   False         False     False\n",
       "2    False  False   False         False     False\n",
       "3    False  False   False         False     False\n",
       "4    False  False   False         False     False\n",
       "..     ...    ...     ...           ...       ...\n",
       "806  False  False   False         False     False\n",
       "807  False  False   False         False     False\n",
       "808  False  False   False         False     False\n",
       "809  False  False   False         False     False\n",
       "810  False  False   False         False     False\n",
       "\n",
       "[811 rows x 5 columns]"
      ]
     },
     "execution_count": 338,
     "metadata": {},
     "output_type": "execute_result"
    }
   ],
   "source": [
    "df.isna() ### checking whether null values are present or not , True = Present"
   ]
  },
  {
   "cell_type": "code",
   "execution_count": 197,
   "id": "17fa9f11",
   "metadata": {},
   "outputs": [],
   "source": [
    "df.drop(['Index'],axis = 1,inplace = True) ### we dont need index column so drop it"
   ]
  },
  {
   "cell_type": "markdown",
   "id": "eff837ab",
   "metadata": {},
   "source": [
    "#### BI_RADS"
   ]
  },
  {
   "cell_type": "code",
   "execution_count": 198,
   "id": "a89f821a",
   "metadata": {},
   "outputs": [
    {
     "data": {
      "text/plain": [
       "2"
      ]
     },
     "execution_count": 198,
     "metadata": {},
     "output_type": "execute_result"
    }
   ],
   "source": [
    "### as mentioned in the porblem statement BI_RADS is no-predictive so itll not be useful \n",
    "### for prediction so iam going to drop BI_RADS\n",
    "\n",
    "df['BI_RADS'].isna().sum()"
   ]
  },
  {
   "cell_type": "code",
   "execution_count": 199,
   "id": "08696053",
   "metadata": {},
   "outputs": [
    {
     "data": {
      "text/plain": [
       "False    809\n",
       "True       2\n",
       "Name: BI_RADS, dtype: int64"
      ]
     },
     "execution_count": 199,
     "metadata": {},
     "output_type": "execute_result"
    }
   ],
   "source": [
    "df['BI_RADS'].isna().value_counts() ### to check the values and their counts"
   ]
  },
  {
   "cell_type": "code",
   "execution_count": 200,
   "id": "c562bab3",
   "metadata": {},
   "outputs": [
    {
     "data": {
      "text/plain": [
       "array([ 5.,  4.,  3., nan,  2., 55.,  0.,  6.])"
      ]
     },
     "execution_count": 200,
     "metadata": {},
     "output_type": "execute_result"
    }
   ],
   "source": [
    "df['BI_RADS'].unique() ### to get unique values"
   ]
  },
  {
   "cell_type": "markdown",
   "id": "cad7b179",
   "metadata": {},
   "source": [
    "#### Age"
   ]
  },
  {
   "cell_type": "code",
   "execution_count": 201,
   "id": "6aabd350",
   "metadata": {},
   "outputs": [],
   "source": [
    "### Age attribute having continous numeric data so we can go for imputation method"
   ]
  },
  {
   "cell_type": "code",
   "execution_count": 202,
   "id": "866e7c74",
   "metadata": {},
   "outputs": [
    {
     "data": {
      "text/plain": [
       "88"
      ]
     },
     "execution_count": 202,
     "metadata": {},
     "output_type": "execute_result"
    }
   ],
   "source": [
    "df['Age'].isna().sum()"
   ]
  },
  {
   "cell_type": "code",
   "execution_count": 203,
   "id": "e3daf0a2",
   "metadata": {},
   "outputs": [
    {
     "data": {
      "text/plain": [
       "False    723\n",
       "True      88\n",
       "Name: Age, dtype: int64"
      ]
     },
     "execution_count": 203,
     "metadata": {},
     "output_type": "execute_result"
    }
   ],
   "source": [
    "df['Age'].isna().value_counts()"
   ]
  },
  {
   "cell_type": "code",
   "execution_count": 204,
   "id": "7505e224",
   "metadata": {},
   "outputs": [
    {
     "data": {
      "text/plain": [
       "array([ 67.,  43.,  58.,  28.,  74.,  65.,  70.,  42.,  57.,  60.,  76.,\n",
       "        64.,  36.,  54.,  52.,  59.,  40.,  66.,  56.,  nan,  45.,  55.,\n",
       "        46.,  39.,  81.,  77.,  48.,  78.,  50.,  61.,  62.,  44.,  23.,\n",
       "        80.,  63.,  53.,  49.,  51.,  25.,  72.,  73.,  68.,  33.,  47.,\n",
       "        29.,  34.,  71., 130.,  24.,  75.,  41.,  87.,  21.,  19.,  35.,\n",
       "        37.,  79.,  69.,  38.,  32.,  27.,  83.,  88.,  26.,   5.,  18.,\n",
       "        93.,  22.,  96.])"
      ]
     },
     "execution_count": 204,
     "metadata": {},
     "output_type": "execute_result"
    }
   ],
   "source": [
    "df['Age'].unique()"
   ]
  },
  {
   "cell_type": "code",
   "execution_count": 205,
   "id": "57dc5363",
   "metadata": {},
   "outputs": [
    {
     "data": {
      "text/plain": [
       "55.88796680497925"
      ]
     },
     "execution_count": 205,
     "metadata": {},
     "output_type": "execute_result"
    }
   ],
   "source": [
    "df['Age'].mean()"
   ]
  },
  {
   "cell_type": "code",
   "execution_count": 206,
   "id": "94c92529",
   "metadata": {},
   "outputs": [
    {
     "data": {
      "text/plain": [
       "56.0"
      ]
     },
     "execution_count": 206,
     "metadata": {},
     "output_type": "execute_result"
    }
   ],
   "source": [
    "df['Age'].median() ### for attribute Age we fill null values with median value of Age\n",
    "                   ### because mean and mode value is close to median value"
   ]
  },
  {
   "cell_type": "code",
   "execution_count": 207,
   "id": "c6816cce",
   "metadata": {},
   "outputs": [
    {
     "data": {
      "text/plain": [
       "59.0"
      ]
     },
     "execution_count": 207,
     "metadata": {},
     "output_type": "execute_result"
    }
   ],
   "source": [
    "df['Age'].mode()[0]"
   ]
  },
  {
   "cell_type": "code",
   "execution_count": 208,
   "id": "e4b27871",
   "metadata": {},
   "outputs": [],
   "source": [
    "### filling null values with median value\n",
    "\n",
    "df['Age'].fillna(df['Age'].median(),inplace = True)"
   ]
  },
  {
   "cell_type": "code",
   "execution_count": 209,
   "id": "ff8c4db9",
   "metadata": {},
   "outputs": [
    {
     "data": {
      "text/plain": [
       "0"
      ]
     },
     "execution_count": 209,
     "metadata": {},
     "output_type": "execute_result"
    }
   ],
   "source": [
    "df['Age'].isna().sum()"
   ]
  },
  {
   "cell_type": "markdown",
   "id": "cf8d74ad",
   "metadata": {},
   "source": [
    "#### Shape"
   ]
  },
  {
   "cell_type": "code",
   "execution_count": 210,
   "id": "baef8e23",
   "metadata": {},
   "outputs": [],
   "source": [
    "### Attribute Shape having categorical data so we cant use imputation method so we can replace categorical data "
   ]
  },
  {
   "cell_type": "code",
   "execution_count": 211,
   "id": "8f2b9ec9",
   "metadata": {},
   "outputs": [
    {
     "data": {
      "text/plain": [
       "30"
      ]
     },
     "execution_count": 211,
     "metadata": {},
     "output_type": "execute_result"
    }
   ],
   "source": [
    "df['Shape'].isna().sum()"
   ]
  },
  {
   "cell_type": "code",
   "execution_count": 212,
   "id": "d1bd9d0f",
   "metadata": {},
   "outputs": [
    {
     "data": {
      "text/plain": [
       "irregular    340\n",
       "round        192\n",
       "oval         177\n",
       "lobular       72\n",
       "Name: Shape, dtype: int64"
      ]
     },
     "execution_count": 212,
     "metadata": {},
     "output_type": "execute_result"
    }
   ],
   "source": [
    "df['Shape'].value_counts()"
   ]
  },
  {
   "cell_type": "code",
   "execution_count": 213,
   "id": "877f934f",
   "metadata": {},
   "outputs": [
    {
     "data": {
      "text/plain": [
       "False    781\n",
       "True      30\n",
       "Name: Shape, dtype: int64"
      ]
     },
     "execution_count": 213,
     "metadata": {},
     "output_type": "execute_result"
    }
   ],
   "source": [
    "df['Shape'].isna().value_counts()"
   ]
  },
  {
   "cell_type": "code",
   "execution_count": 214,
   "id": "c0fd6877",
   "metadata": {},
   "outputs": [
    {
     "data": {
      "text/plain": [
       "array(['lobular', 'round', 'irregular', nan, 'oval'], dtype=object)"
      ]
     },
     "execution_count": 214,
     "metadata": {},
     "output_type": "execute_result"
    }
   ],
   "source": [
    "df['Shape'].unique()"
   ]
  },
  {
   "cell_type": "code",
   "execution_count": 215,
   "id": "bc6948c4",
   "metadata": {},
   "outputs": [
    {
     "data": {
      "text/plain": [
       "{'irregular': 340, 'round': 192, 'oval': 177, 'lobular': 72}"
      ]
     },
     "execution_count": 215,
     "metadata": {},
     "output_type": "execute_result"
    }
   ],
   "source": [
    "df['Shape'].value_counts().to_dict()"
   ]
  },
  {
   "cell_type": "code",
   "execution_count": 216,
   "id": "d34dc383",
   "metadata": {},
   "outputs": [],
   "source": [
    "### we dont have too many nan values so i will replace the nan values with the most frequent category\n",
    "### which is 'irregular'\n",
    "\n",
    "df['Shape'].fillna('irregular',inplace = True)"
   ]
  },
  {
   "cell_type": "code",
   "execution_count": 217,
   "id": "d8b95de1",
   "metadata": {},
   "outputs": [
    {
     "data": {
      "text/plain": [
       "0"
      ]
     },
     "execution_count": 217,
     "metadata": {},
     "output_type": "execute_result"
    }
   ],
   "source": [
    "df['Shape'].isna().sum()"
   ]
  },
  {
   "cell_type": "code",
   "execution_count": 218,
   "id": "9b934def",
   "metadata": {},
   "outputs": [
    {
     "data": {
      "text/plain": [
       "array(['lobular', 'round', 'irregular', 'oval'], dtype=object)"
      ]
     },
     "execution_count": 218,
     "metadata": {},
     "output_type": "execute_result"
    }
   ],
   "source": [
    "df['Shape'].unique()"
   ]
  },
  {
   "cell_type": "markdown",
   "id": "3b84d524",
   "metadata": {},
   "source": [
    "#### Margin"
   ]
  },
  {
   "cell_type": "code",
   "execution_count": 219,
   "id": "4d7a2bca",
   "metadata": {},
   "outputs": [
    {
     "data": {
      "text/plain": [
       "47"
      ]
     },
     "execution_count": 219,
     "metadata": {},
     "output_type": "execute_result"
    }
   ],
   "source": [
    "df['Margin'].isna().sum()"
   ]
  },
  {
   "cell_type": "code",
   "execution_count": 220,
   "id": "fd76e7a8",
   "metadata": {},
   "outputs": [
    {
     "data": {
      "text/plain": [
       "False    764\n",
       "True      47\n",
       "Name: Margin, dtype: int64"
      ]
     },
     "execution_count": 220,
     "metadata": {},
     "output_type": "execute_result"
    }
   ],
   "source": [
    "df['Margin'].isna().value_counts()"
   ]
  },
  {
   "cell_type": "code",
   "execution_count": 221,
   "id": "d99ddda2",
   "metadata": {},
   "outputs": [
    {
     "data": {
      "text/plain": [
       "array(['spiculated', 'circumscribed', nan, 'ill-defined', 'obscured',\n",
       "       'microlobulated'], dtype=object)"
      ]
     },
     "execution_count": 221,
     "metadata": {},
     "output_type": "execute_result"
    }
   ],
   "source": [
    "df['Margin'].unique()"
   ]
  },
  {
   "cell_type": "code",
   "execution_count": 222,
   "id": "8fb7ba87",
   "metadata": {},
   "outputs": [
    {
     "data": {
      "text/plain": [
       "circumscribed     298\n",
       "ill-defined       236\n",
       "spiculated        116\n",
       "obscured           97\n",
       "microlobulated     17\n",
       "Name: Margin, dtype: int64"
      ]
     },
     "execution_count": 222,
     "metadata": {},
     "output_type": "execute_result"
    }
   ],
   "source": [
    "df['Margin'].value_counts()"
   ]
  },
  {
   "cell_type": "code",
   "execution_count": 223,
   "id": "226f6fb4",
   "metadata": {},
   "outputs": [],
   "source": [
    "### we dont have too many nan values so i will replace the nan values with the most frequent category\n",
    "### which is 'circumscribed'\n",
    "\n",
    "df['Margin'].fillna('circumscribed',inplace = True)"
   ]
  },
  {
   "cell_type": "code",
   "execution_count": 224,
   "id": "e9ee99f4",
   "metadata": {},
   "outputs": [
    {
     "data": {
      "text/plain": [
       "0"
      ]
     },
     "execution_count": 224,
     "metadata": {},
     "output_type": "execute_result"
    }
   ],
   "source": [
    "df['Margin'].isna().sum()"
   ]
  },
  {
   "cell_type": "markdown",
   "id": "4b07616b",
   "metadata": {},
   "source": [
    "#### Mass_Density"
   ]
  },
  {
   "cell_type": "code",
   "execution_count": 225,
   "id": "00e27d10",
   "metadata": {},
   "outputs": [
    {
     "data": {
      "text/plain": [
       "76"
      ]
     },
     "execution_count": 225,
     "metadata": {},
     "output_type": "execute_result"
    }
   ],
   "source": [
    "df['Mass_Density'].isna().sum()"
   ]
  },
  {
   "cell_type": "code",
   "execution_count": 226,
   "id": "dc115b37",
   "metadata": {},
   "outputs": [
    {
     "data": {
      "text/plain": [
       "False    735\n",
       "True      76\n",
       "Name: Mass_Density, dtype: int64"
      ]
     },
     "execution_count": 226,
     "metadata": {},
     "output_type": "execute_result"
    }
   ],
   "source": [
    "df['Mass_Density'].isna().value_counts()"
   ]
  },
  {
   "cell_type": "code",
   "execution_count": 227,
   "id": "81d50f87",
   "metadata": {},
   "outputs": [
    {
     "data": {
      "text/plain": [
       "array(['low', nan, 'high', 'iso', 'fat-containing'], dtype=object)"
      ]
     },
     "execution_count": 227,
     "metadata": {},
     "output_type": "execute_result"
    }
   ],
   "source": [
    "df['Mass_Density'].unique()"
   ]
  },
  {
   "cell_type": "code",
   "execution_count": 228,
   "id": "6d7935d8",
   "metadata": {},
   "outputs": [
    {
     "data": {
      "text/plain": [
       "low               663\n",
       "iso                49\n",
       "high               13\n",
       "fat-containing     10\n",
       "Name: Mass_Density, dtype: int64"
      ]
     },
     "execution_count": 228,
     "metadata": {},
     "output_type": "execute_result"
    }
   ],
   "source": [
    "df['Mass_Density'].value_counts()"
   ]
  },
  {
   "cell_type": "code",
   "execution_count": 229,
   "id": "44e5584d",
   "metadata": {},
   "outputs": [],
   "source": [
    "### we dont have too many nan values so i will replace the nan values with the most frequent category\n",
    "### which is 'low'\n",
    "\n",
    "df['Mass_Density'].fillna('low',inplace = True)"
   ]
  },
  {
   "cell_type": "code",
   "execution_count": 230,
   "id": "88f83cb4",
   "metadata": {},
   "outputs": [
    {
     "data": {
      "text/plain": [
       "0"
      ]
     },
     "execution_count": 230,
     "metadata": {},
     "output_type": "execute_result"
    }
   ],
   "source": [
    "df['Mass_Density'].isna().sum()"
   ]
  },
  {
   "cell_type": "markdown",
   "id": "b843322d",
   "metadata": {},
   "source": [
    "#### Severity"
   ]
  },
  {
   "cell_type": "code",
   "execution_count": 231,
   "id": "b60907f8",
   "metadata": {},
   "outputs": [
    {
     "data": {
      "text/plain": [
       "0"
      ]
     },
     "execution_count": 231,
     "metadata": {},
     "output_type": "execute_result"
    }
   ],
   "source": [
    "### this is target column and dont have any nan value so ill skip this attribute\n",
    "\n",
    "df['Severity'].isna().sum()"
   ]
  },
  {
   "cell_type": "code",
   "execution_count": 232,
   "id": "b27f0f0d",
   "metadata": {},
   "outputs": [
    {
     "data": {
      "text/plain": [
       "False    811\n",
       "Name: Severity, dtype: int64"
      ]
     },
     "execution_count": 232,
     "metadata": {},
     "output_type": "execute_result"
    }
   ],
   "source": [
    "df['Severity'].isna().value_counts()"
   ]
  },
  {
   "cell_type": "code",
   "execution_count": 233,
   "id": "c06a2d3f",
   "metadata": {},
   "outputs": [
    {
     "data": {
      "text/plain": [
       "array([1, 0], dtype=int64)"
      ]
     },
     "execution_count": 233,
     "metadata": {},
     "output_type": "execute_result"
    }
   ],
   "source": [
    "df['Severity'].unique()"
   ]
  },
  {
   "cell_type": "markdown",
   "id": "2db9938b",
   "metadata": {},
   "source": [
    "### DATATYPE HANDELING"
   ]
  },
  {
   "cell_type": "code",
   "execution_count": 234,
   "id": "f11a1225",
   "metadata": {},
   "outputs": [
    {
     "name": "stdout",
     "output_type": "stream",
     "text": [
      "<class 'pandas.core.frame.DataFrame'>\n",
      "RangeIndex: 811 entries, 0 to 810\n",
      "Data columns (total 6 columns):\n",
      " #   Column        Non-Null Count  Dtype  \n",
      "---  ------        --------------  -----  \n",
      " 0   BI_RADS       809 non-null    float64\n",
      " 1   Age           811 non-null    float64\n",
      " 2   Shape         811 non-null    object \n",
      " 3   Margin        811 non-null    object \n",
      " 4   Mass_Density  811 non-null    object \n",
      " 5   Severity      811 non-null    int64  \n",
      "dtypes: float64(2), int64(1), object(3)\n",
      "memory usage: 38.1+ KB\n"
     ]
    }
   ],
   "source": [
    "df.info()"
   ]
  },
  {
   "cell_type": "markdown",
   "id": "33f9a311",
   "metadata": {},
   "source": [
    "### 1 - Shape"
   ]
  },
  {
   "cell_type": "code",
   "execution_count": 235,
   "id": "02032101",
   "metadata": {},
   "outputs": [
    {
     "data": {
      "text/plain": [
       "irregular    370\n",
       "round        192\n",
       "oval         177\n",
       "lobular       72\n",
       "Name: Shape, dtype: int64"
      ]
     },
     "execution_count": 235,
     "metadata": {},
     "output_type": "execute_result"
    }
   ],
   "source": [
    "df['Shape'].value_counts()"
   ]
  },
  {
   "cell_type": "code",
   "execution_count": 236,
   "id": "632e3007",
   "metadata": {},
   "outputs": [
    {
     "data": {
      "text/plain": [
       "{'irregular': 370, 'round': 192, 'oval': 177, 'lobular': 72}"
      ]
     },
     "execution_count": 236,
     "metadata": {},
     "output_type": "execute_result"
    }
   ],
   "source": [
    "df['Shape'].value_counts().to_dict()"
   ]
  },
  {
   "cell_type": "code",
   "execution_count": 237,
   "id": "41c1c3b4",
   "metadata": {},
   "outputs": [],
   "source": [
    "### Using Replace method \n",
    "\n",
    "df['Shape'].replace({'irregular': 4, 'round': 1, 'oval': 2, 'lobular': 3},inplace = True)"
   ]
  },
  {
   "cell_type": "code",
   "execution_count": 238,
   "id": "6c58aa0f",
   "metadata": {},
   "outputs": [
    {
     "data": {
      "text/html": [
       "<div>\n",
       "<style scoped>\n",
       "    .dataframe tbody tr th:only-of-type {\n",
       "        vertical-align: middle;\n",
       "    }\n",
       "\n",
       "    .dataframe tbody tr th {\n",
       "        vertical-align: top;\n",
       "    }\n",
       "\n",
       "    .dataframe thead th {\n",
       "        text-align: right;\n",
       "    }\n",
       "</style>\n",
       "<table border=\"1\" class=\"dataframe\">\n",
       "  <thead>\n",
       "    <tr style=\"text-align: right;\">\n",
       "      <th></th>\n",
       "      <th>BI_RADS</th>\n",
       "      <th>Age</th>\n",
       "      <th>Shape</th>\n",
       "      <th>Margin</th>\n",
       "      <th>Mass_Density</th>\n",
       "      <th>Severity</th>\n",
       "    </tr>\n",
       "  </thead>\n",
       "  <tbody>\n",
       "    <tr>\n",
       "      <th>0</th>\n",
       "      <td>5.0</td>\n",
       "      <td>67.0</td>\n",
       "      <td>3</td>\n",
       "      <td>spiculated</td>\n",
       "      <td>low</td>\n",
       "      <td>1</td>\n",
       "    </tr>\n",
       "    <tr>\n",
       "      <th>1</th>\n",
       "      <td>4.0</td>\n",
       "      <td>43.0</td>\n",
       "      <td>1</td>\n",
       "      <td>circumscribed</td>\n",
       "      <td>low</td>\n",
       "      <td>1</td>\n",
       "    </tr>\n",
       "    <tr>\n",
       "      <th>2</th>\n",
       "      <td>5.0</td>\n",
       "      <td>58.0</td>\n",
       "      <td>4</td>\n",
       "      <td>spiculated</td>\n",
       "      <td>low</td>\n",
       "      <td>1</td>\n",
       "    </tr>\n",
       "    <tr>\n",
       "      <th>3</th>\n",
       "      <td>4.0</td>\n",
       "      <td>28.0</td>\n",
       "      <td>1</td>\n",
       "      <td>circumscribed</td>\n",
       "      <td>low</td>\n",
       "      <td>0</td>\n",
       "    </tr>\n",
       "    <tr>\n",
       "      <th>4</th>\n",
       "      <td>5.0</td>\n",
       "      <td>74.0</td>\n",
       "      <td>1</td>\n",
       "      <td>spiculated</td>\n",
       "      <td>low</td>\n",
       "      <td>1</td>\n",
       "    </tr>\n",
       "  </tbody>\n",
       "</table>\n",
       "</div>"
      ],
      "text/plain": [
       "   BI_RADS   Age  Shape         Margin Mass_Density  Severity\n",
       "0      5.0  67.0      3     spiculated          low         1\n",
       "1      4.0  43.0      1  circumscribed          low         1\n",
       "2      5.0  58.0      4     spiculated          low         1\n",
       "3      4.0  28.0      1  circumscribed          low         0\n",
       "4      5.0  74.0      1     spiculated          low         1"
      ]
     },
     "execution_count": 238,
     "metadata": {},
     "output_type": "execute_result"
    }
   ],
   "source": [
    "df.head()"
   ]
  },
  {
   "cell_type": "code",
   "execution_count": 239,
   "id": "30b30432",
   "metadata": {},
   "outputs": [
    {
     "name": "stdout",
     "output_type": "stream",
     "text": [
      "<class 'pandas.core.frame.DataFrame'>\n",
      "RangeIndex: 811 entries, 0 to 810\n",
      "Data columns (total 6 columns):\n",
      " #   Column        Non-Null Count  Dtype  \n",
      "---  ------        --------------  -----  \n",
      " 0   BI_RADS       809 non-null    float64\n",
      " 1   Age           811 non-null    float64\n",
      " 2   Shape         811 non-null    int64  \n",
      " 3   Margin        811 non-null    object \n",
      " 4   Mass_Density  811 non-null    object \n",
      " 5   Severity      811 non-null    int64  \n",
      "dtypes: float64(2), int64(2), object(2)\n",
      "memory usage: 38.1+ KB\n"
     ]
    }
   ],
   "source": [
    "df.info()"
   ]
  },
  {
   "cell_type": "markdown",
   "id": "1f0c793b",
   "metadata": {},
   "source": [
    "### 2 - Margin"
   ]
  },
  {
   "cell_type": "code",
   "execution_count": 240,
   "id": "faa8b75f",
   "metadata": {},
   "outputs": [
    {
     "data": {
      "text/plain": [
       "circumscribed     345\n",
       "ill-defined       236\n",
       "spiculated        116\n",
       "obscured           97\n",
       "microlobulated     17\n",
       "Name: Margin, dtype: int64"
      ]
     },
     "execution_count": 240,
     "metadata": {},
     "output_type": "execute_result"
    }
   ],
   "source": [
    "df['Margin'].value_counts()"
   ]
  },
  {
   "cell_type": "code",
   "execution_count": 241,
   "id": "a8d93d83",
   "metadata": {},
   "outputs": [
    {
     "data": {
      "text/plain": [
       "{'circumscribed': 345,\n",
       " 'ill-defined': 236,\n",
       " 'spiculated': 116,\n",
       " 'obscured': 97,\n",
       " 'microlobulated': 17}"
      ]
     },
     "execution_count": 241,
     "metadata": {},
     "output_type": "execute_result"
    }
   ],
   "source": [
    "df['Margin'].value_counts().to_dict()"
   ]
  },
  {
   "cell_type": "code",
   "execution_count": 242,
   "id": "5dd2b231",
   "metadata": {},
   "outputs": [],
   "source": [
    "df['Margin'].replace({'circumscribed': 1,\n",
    " 'ill-defined': 4,\n",
    " 'spiculated': 5,\n",
    " 'obscured': 3,\n",
    " 'microlobulated': 2}, inplace = True)"
   ]
  },
  {
   "cell_type": "code",
   "execution_count": 243,
   "id": "a3fc62d0",
   "metadata": {},
   "outputs": [
    {
     "data": {
      "text/html": [
       "<div>\n",
       "<style scoped>\n",
       "    .dataframe tbody tr th:only-of-type {\n",
       "        vertical-align: middle;\n",
       "    }\n",
       "\n",
       "    .dataframe tbody tr th {\n",
       "        vertical-align: top;\n",
       "    }\n",
       "\n",
       "    .dataframe thead th {\n",
       "        text-align: right;\n",
       "    }\n",
       "</style>\n",
       "<table border=\"1\" class=\"dataframe\">\n",
       "  <thead>\n",
       "    <tr style=\"text-align: right;\">\n",
       "      <th></th>\n",
       "      <th>BI_RADS</th>\n",
       "      <th>Age</th>\n",
       "      <th>Shape</th>\n",
       "      <th>Margin</th>\n",
       "      <th>Mass_Density</th>\n",
       "      <th>Severity</th>\n",
       "    </tr>\n",
       "  </thead>\n",
       "  <tbody>\n",
       "    <tr>\n",
       "      <th>0</th>\n",
       "      <td>5.0</td>\n",
       "      <td>67.0</td>\n",
       "      <td>3</td>\n",
       "      <td>5</td>\n",
       "      <td>low</td>\n",
       "      <td>1</td>\n",
       "    </tr>\n",
       "    <tr>\n",
       "      <th>1</th>\n",
       "      <td>4.0</td>\n",
       "      <td>43.0</td>\n",
       "      <td>1</td>\n",
       "      <td>1</td>\n",
       "      <td>low</td>\n",
       "      <td>1</td>\n",
       "    </tr>\n",
       "    <tr>\n",
       "      <th>2</th>\n",
       "      <td>5.0</td>\n",
       "      <td>58.0</td>\n",
       "      <td>4</td>\n",
       "      <td>5</td>\n",
       "      <td>low</td>\n",
       "      <td>1</td>\n",
       "    </tr>\n",
       "    <tr>\n",
       "      <th>3</th>\n",
       "      <td>4.0</td>\n",
       "      <td>28.0</td>\n",
       "      <td>1</td>\n",
       "      <td>1</td>\n",
       "      <td>low</td>\n",
       "      <td>0</td>\n",
       "    </tr>\n",
       "    <tr>\n",
       "      <th>4</th>\n",
       "      <td>5.0</td>\n",
       "      <td>74.0</td>\n",
       "      <td>1</td>\n",
       "      <td>5</td>\n",
       "      <td>low</td>\n",
       "      <td>1</td>\n",
       "    </tr>\n",
       "  </tbody>\n",
       "</table>\n",
       "</div>"
      ],
      "text/plain": [
       "   BI_RADS   Age  Shape  Margin Mass_Density  Severity\n",
       "0      5.0  67.0      3       5          low         1\n",
       "1      4.0  43.0      1       1          low         1\n",
       "2      5.0  58.0      4       5          low         1\n",
       "3      4.0  28.0      1       1          low         0\n",
       "4      5.0  74.0      1       5          low         1"
      ]
     },
     "execution_count": 243,
     "metadata": {},
     "output_type": "execute_result"
    }
   ],
   "source": [
    "df.head()"
   ]
  },
  {
   "cell_type": "code",
   "execution_count": 244,
   "id": "11bd9ec8",
   "metadata": {},
   "outputs": [
    {
     "name": "stdout",
     "output_type": "stream",
     "text": [
      "<class 'pandas.core.frame.DataFrame'>\n",
      "RangeIndex: 811 entries, 0 to 810\n",
      "Data columns (total 6 columns):\n",
      " #   Column        Non-Null Count  Dtype  \n",
      "---  ------        --------------  -----  \n",
      " 0   BI_RADS       809 non-null    float64\n",
      " 1   Age           811 non-null    float64\n",
      " 2   Shape         811 non-null    int64  \n",
      " 3   Margin        811 non-null    int64  \n",
      " 4   Mass_Density  811 non-null    object \n",
      " 5   Severity      811 non-null    int64  \n",
      "dtypes: float64(2), int64(3), object(1)\n",
      "memory usage: 38.1+ KB\n"
     ]
    }
   ],
   "source": [
    "df.info()"
   ]
  },
  {
   "cell_type": "markdown",
   "id": "cbe8007f",
   "metadata": {},
   "source": [
    "### 3 - Mass Density"
   ]
  },
  {
   "cell_type": "code",
   "execution_count": 245,
   "id": "423d390a",
   "metadata": {},
   "outputs": [
    {
     "data": {
      "text/plain": [
       "low               739\n",
       "iso                49\n",
       "high               13\n",
       "fat-containing     10\n",
       "Name: Mass_Density, dtype: int64"
      ]
     },
     "execution_count": 245,
     "metadata": {},
     "output_type": "execute_result"
    }
   ],
   "source": [
    "df['Mass_Density'].value_counts()"
   ]
  },
  {
   "cell_type": "code",
   "execution_count": 246,
   "id": "e0d9d93f",
   "metadata": {},
   "outputs": [
    {
     "data": {
      "text/plain": [
       "{'low': 739, 'iso': 49, 'high': 13, 'fat-containing': 10}"
      ]
     },
     "execution_count": 246,
     "metadata": {},
     "output_type": "execute_result"
    }
   ],
   "source": [
    "df['Mass_Density'].value_counts().to_dict()"
   ]
  },
  {
   "cell_type": "code",
   "execution_count": 247,
   "id": "61e67f9d",
   "metadata": {},
   "outputs": [],
   "source": [
    "df['Mass_Density'].replace({'low': 3, 'iso': 2, 'high': 1, 'fat-containing': 4},inplace = True)"
   ]
  },
  {
   "cell_type": "code",
   "execution_count": 248,
   "id": "2ed9221e",
   "metadata": {},
   "outputs": [
    {
     "data": {
      "text/html": [
       "<div>\n",
       "<style scoped>\n",
       "    .dataframe tbody tr th:only-of-type {\n",
       "        vertical-align: middle;\n",
       "    }\n",
       "\n",
       "    .dataframe tbody tr th {\n",
       "        vertical-align: top;\n",
       "    }\n",
       "\n",
       "    .dataframe thead th {\n",
       "        text-align: right;\n",
       "    }\n",
       "</style>\n",
       "<table border=\"1\" class=\"dataframe\">\n",
       "  <thead>\n",
       "    <tr style=\"text-align: right;\">\n",
       "      <th></th>\n",
       "      <th>BI_RADS</th>\n",
       "      <th>Age</th>\n",
       "      <th>Shape</th>\n",
       "      <th>Margin</th>\n",
       "      <th>Mass_Density</th>\n",
       "      <th>Severity</th>\n",
       "    </tr>\n",
       "  </thead>\n",
       "  <tbody>\n",
       "    <tr>\n",
       "      <th>0</th>\n",
       "      <td>5.0</td>\n",
       "      <td>67.0</td>\n",
       "      <td>3</td>\n",
       "      <td>5</td>\n",
       "      <td>3</td>\n",
       "      <td>1</td>\n",
       "    </tr>\n",
       "    <tr>\n",
       "      <th>1</th>\n",
       "      <td>4.0</td>\n",
       "      <td>43.0</td>\n",
       "      <td>1</td>\n",
       "      <td>1</td>\n",
       "      <td>3</td>\n",
       "      <td>1</td>\n",
       "    </tr>\n",
       "    <tr>\n",
       "      <th>2</th>\n",
       "      <td>5.0</td>\n",
       "      <td>58.0</td>\n",
       "      <td>4</td>\n",
       "      <td>5</td>\n",
       "      <td>3</td>\n",
       "      <td>1</td>\n",
       "    </tr>\n",
       "    <tr>\n",
       "      <th>3</th>\n",
       "      <td>4.0</td>\n",
       "      <td>28.0</td>\n",
       "      <td>1</td>\n",
       "      <td>1</td>\n",
       "      <td>3</td>\n",
       "      <td>0</td>\n",
       "    </tr>\n",
       "    <tr>\n",
       "      <th>4</th>\n",
       "      <td>5.0</td>\n",
       "      <td>74.0</td>\n",
       "      <td>1</td>\n",
       "      <td>5</td>\n",
       "      <td>3</td>\n",
       "      <td>1</td>\n",
       "    </tr>\n",
       "  </tbody>\n",
       "</table>\n",
       "</div>"
      ],
      "text/plain": [
       "   BI_RADS   Age  Shape  Margin  Mass_Density  Severity\n",
       "0      5.0  67.0      3       5             3         1\n",
       "1      4.0  43.0      1       1             3         1\n",
       "2      5.0  58.0      4       5             3         1\n",
       "3      4.0  28.0      1       1             3         0\n",
       "4      5.0  74.0      1       5             3         1"
      ]
     },
     "execution_count": 248,
     "metadata": {},
     "output_type": "execute_result"
    }
   ],
   "source": [
    "df.head()"
   ]
  },
  {
   "cell_type": "code",
   "execution_count": 249,
   "id": "29836b0b",
   "metadata": {},
   "outputs": [
    {
     "name": "stdout",
     "output_type": "stream",
     "text": [
      "<class 'pandas.core.frame.DataFrame'>\n",
      "RangeIndex: 811 entries, 0 to 810\n",
      "Data columns (total 6 columns):\n",
      " #   Column        Non-Null Count  Dtype  \n",
      "---  ------        --------------  -----  \n",
      " 0   BI_RADS       809 non-null    float64\n",
      " 1   Age           811 non-null    float64\n",
      " 2   Shape         811 non-null    int64  \n",
      " 3   Margin        811 non-null    int64  \n",
      " 4   Mass_Density  811 non-null    int64  \n",
      " 5   Severity      811 non-null    int64  \n",
      "dtypes: float64(2), int64(4)\n",
      "memory usage: 38.1 KB\n"
     ]
    }
   ],
   "source": [
    "df.info()"
   ]
  },
  {
   "cell_type": "markdown",
   "id": "91237a50",
   "metadata": {},
   "source": [
    "# FEATURE SELECTION"
   ]
  },
  {
   "cell_type": "markdown",
   "id": "22a618d1",
   "metadata": {},
   "source": [
    "### QUESTION NO - 3"
   ]
  },
  {
   "cell_type": "markdown",
   "id": "5c2271b4",
   "metadata": {},
   "source": [
    "**Q - What features would you want to create for your prediction model based on data provided?**\n",
    "\n",
    "**Ans** - BI_RADS attribute is non predictive so drop this attribute and proceed with all other attributes"
   ]
  },
  {
   "cell_type": "code",
   "execution_count": 255,
   "id": "7634c7a8",
   "metadata": {},
   "outputs": [],
   "source": [
    "df.drop(['BI_RADS'],axis = 1,inplace = True)"
   ]
  },
  {
   "cell_type": "code",
   "execution_count": 256,
   "id": "220843b6",
   "metadata": {},
   "outputs": [
    {
     "data": {
      "text/html": [
       "<div>\n",
       "<style scoped>\n",
       "    .dataframe tbody tr th:only-of-type {\n",
       "        vertical-align: middle;\n",
       "    }\n",
       "\n",
       "    .dataframe tbody tr th {\n",
       "        vertical-align: top;\n",
       "    }\n",
       "\n",
       "    .dataframe thead th {\n",
       "        text-align: right;\n",
       "    }\n",
       "</style>\n",
       "<table border=\"1\" class=\"dataframe\">\n",
       "  <thead>\n",
       "    <tr style=\"text-align: right;\">\n",
       "      <th></th>\n",
       "      <th>Age</th>\n",
       "      <th>Shape</th>\n",
       "      <th>Margin</th>\n",
       "      <th>Mass_Density</th>\n",
       "      <th>Severity</th>\n",
       "    </tr>\n",
       "  </thead>\n",
       "  <tbody>\n",
       "    <tr>\n",
       "      <th>0</th>\n",
       "      <td>67.0</td>\n",
       "      <td>3</td>\n",
       "      <td>5</td>\n",
       "      <td>3</td>\n",
       "      <td>1</td>\n",
       "    </tr>\n",
       "    <tr>\n",
       "      <th>1</th>\n",
       "      <td>43.0</td>\n",
       "      <td>1</td>\n",
       "      <td>1</td>\n",
       "      <td>3</td>\n",
       "      <td>1</td>\n",
       "    </tr>\n",
       "    <tr>\n",
       "      <th>2</th>\n",
       "      <td>58.0</td>\n",
       "      <td>4</td>\n",
       "      <td>5</td>\n",
       "      <td>3</td>\n",
       "      <td>1</td>\n",
       "    </tr>\n",
       "    <tr>\n",
       "      <th>3</th>\n",
       "      <td>28.0</td>\n",
       "      <td>1</td>\n",
       "      <td>1</td>\n",
       "      <td>3</td>\n",
       "      <td>0</td>\n",
       "    </tr>\n",
       "    <tr>\n",
       "      <th>4</th>\n",
       "      <td>74.0</td>\n",
       "      <td>1</td>\n",
       "      <td>5</td>\n",
       "      <td>3</td>\n",
       "      <td>1</td>\n",
       "    </tr>\n",
       "  </tbody>\n",
       "</table>\n",
       "</div>"
      ],
      "text/plain": [
       "    Age  Shape  Margin  Mass_Density  Severity\n",
       "0  67.0      3       5             3         1\n",
       "1  43.0      1       1             3         1\n",
       "2  58.0      4       5             3         1\n",
       "3  28.0      1       1             3         0\n",
       "4  74.0      1       5             3         1"
      ]
     },
     "execution_count": 256,
     "metadata": {},
     "output_type": "execute_result"
    }
   ],
   "source": [
    "df.head()"
   ]
  },
  {
   "cell_type": "markdown",
   "id": "45378971",
   "metadata": {},
   "source": [
    "**So Age, Shape , Margin , Mass_Density will be input feature and Severity will be output feature**"
   ]
  },
  {
   "cell_type": "markdown",
   "id": "42dfd797",
   "metadata": {},
   "source": [
    "# DATA VISUALISATION"
   ]
  },
  {
   "cell_type": "markdown",
   "id": "baa186bf",
   "metadata": {},
   "source": [
    "### QUESTION NO - 6"
   ]
  },
  {
   "cell_type": "markdown",
   "id": "00910526",
   "metadata": {},
   "source": [
    "**Q - Determine whether the data is normally distributed visually and statistically.**\n",
    "\n",
    "***Ans*** - data is normally distributed as per we can see the kdeplot little bit random distributed in case of Margin and                   Shape but we can say that data is normally distributed"
   ]
  },
  {
   "cell_type": "code",
   "execution_count": 258,
   "id": "dfdb9921",
   "metadata": {},
   "outputs": [
    {
     "data": {
      "text/plain": [
       "<AxesSubplot:xlabel='Age', ylabel='Density'>"
      ]
     },
     "execution_count": 258,
     "metadata": {},
     "output_type": "execute_result"
    },
    {
     "data": {
      "image/png": "[encoded data removed]",
      "text/plain": [
       "<Figure size 432x288 with 1 Axes>"
      ]
     },
     "metadata": {
      "needs_background": "light"
     },
     "output_type": "display_data"
    }
   ],
   "source": [
    "sns.kdeplot(df['Age']) "
   ]
  },
  {
   "cell_type": "code",
   "execution_count": null,
   "id": "732df19b",
   "metadata": {},
   "outputs": [],
   "source": []
  },
  {
   "cell_type": "code",
   "execution_count": 259,
   "id": "9e7047c7",
   "metadata": {},
   "outputs": [
    {
     "data": {
      "text/plain": [
       "<AxesSubplot:xlabel='Shape', ylabel='Density'>"
      ]
     },
     "execution_count": 259,
     "metadata": {},
     "output_type": "execute_result"
    },
    {
     "data": {
      "image/png": "[encoded data removed]",
      "text/plain": [
       "<Figure size 432x288 with 1 Axes>"
      ]
     },
     "metadata": {
      "needs_background": "light"
     },
     "output_type": "display_data"
    }
   ],
   "source": [
    "sns.kdeplot(df['Shape'])"
   ]
  },
  {
   "cell_type": "code",
   "execution_count": null,
   "id": "a6db7174",
   "metadata": {},
   "outputs": [],
   "source": []
  },
  {
   "cell_type": "code",
   "execution_count": 260,
   "id": "86fc668f",
   "metadata": {},
   "outputs": [
    {
     "data": {
      "text/plain": [
       "<AxesSubplot:xlabel='Margin', ylabel='Density'>"
      ]
     },
     "execution_count": 260,
     "metadata": {},
     "output_type": "execute_result"
    },
    {
     "data": {
      "image/png": "[encoded data removed]",
      "text/plain": [
       "<Figure size 432x288 with 1 Axes>"
      ]
     },
     "metadata": {
      "needs_background": "light"
     },
     "output_type": "display_data"
    }
   ],
   "source": [
    "sns.kdeplot(df['Margin'])"
   ]
  },
  {
   "cell_type": "code",
   "execution_count": null,
   "id": "57142d12",
   "metadata": {},
   "outputs": [],
   "source": []
  },
  {
   "cell_type": "code",
   "execution_count": 261,
   "id": "ba946044",
   "metadata": {},
   "outputs": [
    {
     "data": {
      "text/plain": [
       "<AxesSubplot:xlabel='Mass_Density', ylabel='Density'>"
      ]
     },
     "execution_count": 261,
     "metadata": {},
     "output_type": "execute_result"
    },
    {
     "data": {
      "image/png": "[encoded data removed]",
      "text/plain": [
       "<Figure size 432x288 with 1 Axes>"
      ]
     },
     "metadata": {
      "needs_background": "light"
     },
     "output_type": "display_data"
    }
   ],
   "source": [
    "sns.kdeplot(df['Mass_Density'])"
   ]
  },
  {
   "cell_type": "markdown",
   "id": "5b7b95aa",
   "metadata": {},
   "source": [
    "# DETECTING AND HANDELING OUTLIERS"
   ]
  },
  {
   "cell_type": "markdown",
   "id": "87664a78",
   "metadata": {},
   "source": [
    "### QUESTION NO - 8"
   ]
  },
  {
   "cell_type": "markdown",
   "id": "5c33353e",
   "metadata": {},
   "source": [
    "***Q - How are you detecting and treating outliers in the dataset for better convergence?***\n",
    "\n",
    "***Ans*** - to detect the outliers ill use boxplot"
   ]
  },
  {
   "cell_type": "code",
   "execution_count": 269,
   "id": "6ebe3fb8",
   "metadata": {},
   "outputs": [
    {
     "data": {
      "text/plain": [
       "<AxesSubplot:xlabel='Age'>"
      ]
     },
     "execution_count": 269,
     "metadata": {},
     "output_type": "execute_result"
    },
    {
     "data": {
      "image/png": "[encoded data removed]",
      "text/plain": [
       "<Figure size 432x288 with 1 Axes>"
      ]
     },
     "metadata": {
      "needs_background": "light"
     },
     "output_type": "display_data"
    }
   ],
   "source": [
    "sns.boxplot(x=df['Age'])\n",
    "\n",
    "### in Age attribute we can see three dots shown in fig below those three dots are outliers\n",
    "### lets find out the upper tail so we can get clearance about those outliers"
   ]
  },
  {
   "cell_type": "code",
   "execution_count": 270,
   "id": "bb1df03e",
   "metadata": {},
   "outputs": [
    {
     "data": {
      "text/plain": [
       "93.5"
      ]
     },
     "execution_count": 270,
     "metadata": {},
     "output_type": "execute_result"
    }
   ],
   "source": [
    "q1 = df['Age'].quantile(0.25)\n",
    "q3 = df['Age'].quantile(0.75) \n",
    "iqr = q3-q1\n",
    "\n",
    "upper_tail = q3+(1.5*iqr)\n",
    "upper_tail"
   ]
  },
  {
   "cell_type": "code",
   "execution_count": 271,
   "id": "13c83a36",
   "metadata": {},
   "outputs": [
    {
     "data": {
      "text/html": [
       "<div>\n",
       "<style scoped>\n",
       "    .dataframe tbody tr th:only-of-type {\n",
       "        vertical-align: middle;\n",
       "    }\n",
       "\n",
       "    .dataframe tbody tr th {\n",
       "        vertical-align: top;\n",
       "    }\n",
       "\n",
       "    .dataframe thead th {\n",
       "        text-align: right;\n",
       "    }\n",
       "</style>\n",
       "<table border=\"1\" class=\"dataframe\">\n",
       "  <thead>\n",
       "    <tr style=\"text-align: right;\">\n",
       "      <th></th>\n",
       "      <th>Age</th>\n",
       "      <th>Shape</th>\n",
       "      <th>Margin</th>\n",
       "      <th>Mass_Density</th>\n",
       "      <th>Severity</th>\n",
       "    </tr>\n",
       "  </thead>\n",
       "  <tbody>\n",
       "    <tr>\n",
       "      <th>119</th>\n",
       "      <td>130.0</td>\n",
       "      <td>4</td>\n",
       "      <td>5</td>\n",
       "      <td>3</td>\n",
       "      <td>0</td>\n",
       "    </tr>\n",
       "    <tr>\n",
       "      <th>132</th>\n",
       "      <td>130.0</td>\n",
       "      <td>4</td>\n",
       "      <td>4</td>\n",
       "      <td>3</td>\n",
       "      <td>0</td>\n",
       "    </tr>\n",
       "    <tr>\n",
       "      <th>169</th>\n",
       "      <td>130.0</td>\n",
       "      <td>4</td>\n",
       "      <td>5</td>\n",
       "      <td>3</td>\n",
       "      <td>1</td>\n",
       "    </tr>\n",
       "    <tr>\n",
       "      <th>195</th>\n",
       "      <td>130.0</td>\n",
       "      <td>4</td>\n",
       "      <td>4</td>\n",
       "      <td>3</td>\n",
       "      <td>1</td>\n",
       "    </tr>\n",
       "    <tr>\n",
       "      <th>330</th>\n",
       "      <td>130.0</td>\n",
       "      <td>3</td>\n",
       "      <td>5</td>\n",
       "      <td>3</td>\n",
       "      <td>1</td>\n",
       "    </tr>\n",
       "    <tr>\n",
       "      <th>466</th>\n",
       "      <td>130.0</td>\n",
       "      <td>4</td>\n",
       "      <td>5</td>\n",
       "      <td>3</td>\n",
       "      <td>1</td>\n",
       "    </tr>\n",
       "    <tr>\n",
       "      <th>578</th>\n",
       "      <td>130.0</td>\n",
       "      <td>3</td>\n",
       "      <td>2</td>\n",
       "      <td>3</td>\n",
       "      <td>1</td>\n",
       "    </tr>\n",
       "    <tr>\n",
       "      <th>596</th>\n",
       "      <td>130.0</td>\n",
       "      <td>4</td>\n",
       "      <td>3</td>\n",
       "      <td>3</td>\n",
       "      <td>1</td>\n",
       "    </tr>\n",
       "    <tr>\n",
       "      <th>609</th>\n",
       "      <td>130.0</td>\n",
       "      <td>3</td>\n",
       "      <td>4</td>\n",
       "      <td>3</td>\n",
       "      <td>1</td>\n",
       "    </tr>\n",
       "    <tr>\n",
       "      <th>726</th>\n",
       "      <td>96.0</td>\n",
       "      <td>3</td>\n",
       "      <td>4</td>\n",
       "      <td>3</td>\n",
       "      <td>1</td>\n",
       "    </tr>\n",
       "  </tbody>\n",
       "</table>\n",
       "</div>"
      ],
      "text/plain": [
       "       Age  Shape  Margin  Mass_Density  Severity\n",
       "119  130.0      4       5             3         0\n",
       "132  130.0      4       4             3         0\n",
       "169  130.0      4       5             3         1\n",
       "195  130.0      4       4             3         1\n",
       "330  130.0      3       5             3         1\n",
       "466  130.0      4       5             3         1\n",
       "578  130.0      3       2             3         1\n",
       "596  130.0      4       3             3         1\n",
       "609  130.0      3       4             3         1\n",
       "726   96.0      3       4             3         1"
      ]
     },
     "execution_count": 271,
     "metadata": {},
     "output_type": "execute_result"
    }
   ],
   "source": [
    "df.loc[df['Age'] > upper_tail]"
   ]
  },
  {
   "cell_type": "code",
   "execution_count": null,
   "id": "ba8cb252",
   "metadata": {},
   "outputs": [],
   "source": [
    "### so basically the outliers are age value higher than upper tail \n",
    "### age is important attribute in our data frame so we cant consider it as outliers\n",
    "### so we just skip"
   ]
  },
  {
   "cell_type": "code",
   "execution_count": 272,
   "id": "5fe83be8",
   "metadata": {},
   "outputs": [
    {
     "data": {
      "text/plain": [
       "<AxesSubplot:xlabel='Shape'>"
      ]
     },
     "execution_count": 272,
     "metadata": {},
     "output_type": "execute_result"
    },
    {
     "data": {
      "image/png": "[encoded data removed]",
      "text/plain": [
       "<Figure size 432x288 with 1 Axes>"
      ]
     },
     "metadata": {
      "needs_background": "light"
     },
     "output_type": "display_data"
    }
   ],
   "source": [
    "sns.boxplot(x=df['Shape'])\n",
    "\n",
    "### there is no outlier in Shape attribute"
   ]
  },
  {
   "cell_type": "code",
   "execution_count": 273,
   "id": "ec3a9460",
   "metadata": {},
   "outputs": [
    {
     "data": {
      "text/plain": [
       "<AxesSubplot:xlabel='Margin'>"
      ]
     },
     "execution_count": 273,
     "metadata": {},
     "output_type": "execute_result"
    },
    {
     "data": {
      "image/png": "[encoded data removed]",
      "text/plain": [
       "<Figure size 432x288 with 1 Axes>"
      ]
     },
     "metadata": {
      "needs_background": "light"
     },
     "output_type": "display_data"
    }
   ],
   "source": [
    "sns.boxplot(x=df['Margin'])\n",
    "\n",
    "### there is no outlier in Margin attribute"
   ]
  },
  {
   "cell_type": "code",
   "execution_count": 274,
   "id": "76c1e446",
   "metadata": {},
   "outputs": [
    {
     "data": {
      "text/plain": [
       "<AxesSubplot:xlabel='Mass_Density'>"
      ]
     },
     "execution_count": 274,
     "metadata": {},
     "output_type": "execute_result"
    },
    {
     "data": {
      "image/png": "[encoded data removed]",
      "text/plain": [
       "<Figure size 432x288 with 1 Axes>"
      ]
     },
     "metadata": {
      "needs_background": "light"
     },
     "output_type": "display_data"
    }
   ],
   "source": [
    "sns.boxplot(x=df['Mass_Density'])\n",
    "\n",
    "### we can see the outliers but those are important as per our data so we can skip"
   ]
  },
  {
   "cell_type": "markdown",
   "id": "f1baf2ff",
   "metadata": {},
   "source": [
    "### QUESTION NO - 10"
   ]
  },
  {
   "cell_type": "markdown",
   "id": "a12853a4",
   "metadata": {},
   "source": [
    "***Q - What is the distribution of target with respect to categorical columns?***\n",
    "\n",
    "***Ans***  - We have three categorical columns named Shape, Margin, Mass_Density and Age is not categorical column\n",
    "and with the help of histogram we can see the data distribution of the columns"
   ]
  },
  {
   "cell_type": "code",
   "execution_count": 282,
   "id": "69045a5d",
   "metadata": {},
   "outputs": [
    {
     "data": {
      "image/png": "[encoded data removed]",
      "text/plain": [
       "<Figure size 1296x288 with 4 Axes>"
      ]
     },
     "metadata": {
      "needs_background": "light"
     },
     "output_type": "display_data"
    }
   ],
   "source": [
    "figure,axes = plt.subplots(1,4, sharey = False,figsize = (18,4))\n",
    "x1,x2,x3,x4 = axes.flatten()\n",
    "x1.hist(df['Shape'],bins = 10,color = \"blue\")\n",
    "x2.hist(df['Margin'],bins = 10,color = \"red\")\n",
    "x3.hist(df['Mass_Density'],bins = 10,color = \"black\")\n",
    "x4.hist(df['Severity'],bins = 10,color = \"green\")\n",
    "\n",
    "x1.set_xlabel('Shape',fontsize = 'large')\n",
    "x2.set_xlabel('Margin',fontsize = 'large')\n",
    "x3.set_xlabel('Mass_Density',fontsize = 'large')\n",
    "x4.set_xlabel('Severity',fontsize = 'large')\n",
    "\n",
    "plt.suptitle('Data Distribution',ha='center',fontsize = 'x-large')\n",
    "plt.show()"
   ]
  },
  {
   "cell_type": "markdown",
   "id": "6bd50604",
   "metadata": {},
   "source": [
    "# MODEL BUILDING AND MODELTRAINING"
   ]
  },
  {
   "cell_type": "markdown",
   "id": "72de8220",
   "metadata": {},
   "source": [
    "### QUESTION NO - 1 "
   ]
  },
  {
   "cell_type": "markdown",
   "id": "0ae7c170",
   "metadata": {},
   "source": [
    "***Q - Build Statistical Classification model to detect severity***\n",
    "\n",
    "***Ans*** - i will use five different classification algorithm and compair the performance\n",
    "\n",
    "1 - Decision Tree\n",
    "\n",
    "2 - Random Forest\n",
    "\n",
    "3 - KNN\n",
    "\n",
    "4 - SVM\n",
    "\n",
    "5 - Logistic Regression"
   ]
  },
  {
   "cell_type": "code",
   "execution_count": 292,
   "id": "e84519bf",
   "metadata": {},
   "outputs": [],
   "source": [
    "### Assigning values for x and y\n",
    "\n",
    "x = df.drop('Severity',axis = 1)\n",
    "y = df['Severity']"
   ]
  },
  {
   "cell_type": "code",
   "execution_count": 286,
   "id": "ec603910",
   "metadata": {},
   "outputs": [
    {
     "name": "stdout",
     "output_type": "stream",
     "text": [
      "[[ 0.6966527   0.18819935  1.45162835  0.22191151]\n",
      " [-0.80964014 -1.41001715 -1.07877593  0.22191151]\n",
      " [ 0.13179288  0.98730761  1.45162835  0.22191151]\n",
      " ...\n",
      " [ 0.13179288  0.98730761  0.81902728  0.22191151]\n",
      " [ 0.00626848 -1.41001715  0.81902728  0.22191151]\n",
      " [ 1.19875031  0.98730761  1.45162835  0.22191151]]\n"
     ]
    }
   ],
   "source": [
    "### Scaling the input attributes to normalize the data within a particular range\n",
    "### with the help of StandardScalar we can normalize the data\n",
    "\n",
    "###why?\n",
    "### Ans - as we seen in above kde plot we have some fetures having slight random distribution so to overcome that problem\n",
    "### we using Standard Scalar to normalize the data\n",
    "\n",
    "scalar = StandardScaler()\n",
    "x = scalar.fit_transform(x)\n",
    "print(x)"
   ]
  },
  {
   "cell_type": "code",
   "execution_count": 288,
   "id": "70563faf",
   "metadata": {},
   "outputs": [],
   "source": [
    "### Splitting the data\n",
    "\n",
    "x_train,x_test,y_train,y_test = train_test_split(x,y,test_size=0.2,random_state=0)\n",
    "\n",
    "### 80% data for training\n",
    "### 20% data for testing"
   ]
  },
  {
   "cell_type": "code",
   "execution_count": 319,
   "id": "9a52f647",
   "metadata": {},
   "outputs": [
    {
     "data": {
      "text/plain": [
       "0    438\n",
       "1    373\n",
       "Name: Severity, dtype: int64"
      ]
     },
     "execution_count": 319,
     "metadata": {},
     "output_type": "execute_result"
    }
   ],
   "source": [
    "df['Severity'].value_counts()"
   ]
  },
  {
   "cell_type": "markdown",
   "id": "7c60bd70",
   "metadata": {},
   "source": [
    "### QUESTION NO - 5"
   ]
  },
  {
   "cell_type": "markdown",
   "id": "617db05e",
   "metadata": {},
   "source": [
    "***Q - What is your model evaluation criteria? What are the assumptions and limitations of your approach?***\n",
    "\n",
    "***Ans*** - so as per value counts of our target variable data distribution is nearly equal so we can say that the data is balanced so we can directly find the accuracy score. in below cell we training the model and find out the accuracy score\n",
    "\n",
    "what if the data is imbalanced?\n",
    "- if the data is imbalanced then we have to find out the confusion matrix then calculate the precision ,recall and f-beta score"
   ]
  },
  {
   "cell_type": "code",
   "execution_count": 328,
   "id": "3980d413",
   "metadata": {},
   "outputs": [
    {
     "name": "stdout",
     "output_type": "stream",
     "text": [
      "Model Accuracy of Support Vector Classifier  =  0.644\n",
      "Model Accuracy of Logistic Regression  =  0.791\n",
      "Model Accuracy of K-Neighbors Classifier  =  0.804\n",
      "Model Accuracy of Random Forest  =  0.81\n",
      "Model Accuracy of Decision Tree Classifier  =  0.693\n"
     ]
    }
   ],
   "source": [
    "### ill create dictionary of all the different algorithms and train the models\n",
    "\n",
    "dictionary = {SVC(kernel = 'rbf', C = 1 ,gamma = 1000 , probability = True):\"Support Vector Classifier\",\n",
    "             LogisticRegression(solver = 'liblinear', random_state = 0):\"Logistic Regression\",\n",
    "             KNeighborsClassifier(n_neighbors = 10):\"K-Neighbors Classifier\",\n",
    "             RandomForestClassifier(max_depth = 3 , n_estimators = 100 , random_state = 0):\"Random Forest\",\n",
    "             DecisionTreeClassifier(random_state = 0):\"Decision Tree Classifier\"}\n",
    "\n",
    "for model in dictionary:\n",
    "    model.fit(x_train,y_train)\n",
    "    \n",
    "    y_pred = model.predict(x_test)\n",
    "    \n",
    "    accuracy = accuracy_score(y_test,y_pred)\n",
    "    \n",
    "    print(\"Model Accuracy of\", dictionary[model],\" = \",accuracy.round(3))"
   ]
  },
  {
   "cell_type": "markdown",
   "id": "054fbacd",
   "metadata": {},
   "source": [
    "### QUESTION NO - 4"
   ]
  },
  {
   "cell_type": "markdown",
   "id": "48e97923",
   "metadata": {},
   "source": [
    "***Q - How have you performed hyper-parameter tuning and model optimization? What are the reasons for your decision choices for these steps?***\n",
    "\n",
    "**Ans** - talking about hyperparameter i did not used hyperparameter tuning but some default hyperparameters are given below\n",
    "\n",
    "Logistic regression --> solver = liblinear\n",
    "\n",
    "k Neighbors --> n_neighbors = 10 --> we can give range for this\n",
    "\n",
    "SVM --> kernel = 'rbf'\n",
    "\n",
    "Random Forest --> max_depth = 3 and n_estimators = 100"
   ]
  },
  {
   "cell_type": "code",
   "execution_count": 322,
   "id": "71bd2bbf",
   "metadata": {},
   "outputs": [],
   "source": [
    "### as we see above we get more accuracy by using random forest algorithm\n",
    "### now i can use k-fold cross validation to check wether our model accuracy is getting better or not\n",
    "### k-fold is used for improving model prediction"
   ]
  },
  {
   "cell_type": "code",
   "execution_count": 334,
   "id": "9b6c5d35",
   "metadata": {},
   "outputs": [
    {
     "name": "stdout",
     "output_type": "stream",
     "text": [
      "Model Accuracy of Support Vector Classifier with cross validation is =  0.70\n",
      "Model Accuracy of Logistic Regression with cross validation is =  0.79\n",
      "Model Accuracy of K-Neighbors Classifier with cross validation is =  0.77\n",
      "Model Accuracy of Random Forest with cross validation is =  0.81\n",
      "Model Accuracy of Decision Tree Classifier with cross validation is =  0.74\n"
     ]
    }
   ],
   "source": [
    "from sklearn.model_selection import cross_val_score\n",
    "\n",
    "for model in dictionary:\n",
    "    cvscore = cross_val_score(model,x,y,cv = 10)\n",
    "    print(\"Model Accuracy of\", dictionary[model],\"with cross validation is = \",'{:3.2f}'.format(cvscore.mean()))"
   ]
  },
  {
   "cell_type": "markdown",
   "id": "9c9f0544",
   "metadata": {},
   "source": [
    "#### ROC AND AUC CURVE TO CHECK THE DIFFERENT MODEL PERFORMANCE"
   ]
  },
  {
   "cell_type": "code",
   "execution_count": 337,
   "id": "2dc744c2",
   "metadata": {},
   "outputs": [
    {
     "data": {
      "image/png": "[encoded data removed]",
      "text/plain": [
       "<Figure size 720x360 with 1 Axes>"
      ]
     },
     "metadata": {
      "needs_background": "light"
     },
     "output_type": "display_data"
    }
   ],
   "source": [
    "from sklearn.metrics import roc_curve,auc  ### import roc and auc\n",
    "\n",
    "dictionary = {SVC(kernel = 'rbf', C = 1 ,gamma = 1000 , probability = True):\"Support Vector Classifier\",\n",
    "             LogisticRegression(solver = 'liblinear', random_state = 0):\"Logistic Regression\",\n",
    "             KNeighborsClassifier(n_neighbors = 10):\"K-Neighbors Classifier\",\n",
    "             RandomForestClassifier(max_depth = 3 , n_estimators = 100 , random_state = 0):\"Random Forest\",\n",
    "             DecisionTreeClassifier(random_state = 0):\"Decision Tree Classifier\"}\n",
    "\n",
    "for model in dictionary:\n",
    "    model.fit(x_train,y_train)\n",
    "    \n",
    "    prob = model.predict_proba(x_test)\n",
    "    \n",
    "    fpr,tpr,thresholds=roc_curve(y_test,prob[:,1])\n",
    "    \n",
    "    roc_auc = auc(fpr,tpr)\n",
    "    \n",
    "    plt.plot(fpr,tpr,lw = 3, label = dictionary[model]+'AUC = %0.2f'% roc_auc)\n",
    "    \n",
    "    plt.legend(loc = 'lower right')\n",
    "    plt.plot([0,1],[0,1],'r--')\n",
    "    plt.title('Receiver Operating Characteristic', fontsize = 15)\n",
    "    \n",
    "plt.xlim([-0.02, 1.02])\n",
    "plt.ylim([-0.02, 1.02])\n",
    "plt.ylabel('True Positive Rate')\n",
    "plt.xlabel('False Positive Rate')\n",
    "plt.rcParams['figure.figsize'] = (10,5)\n",
    "plt.show()"
   ]
  },
  {
   "cell_type": "code",
   "execution_count": null,
   "id": "ee2bf019",
   "metadata": {},
   "outputs": [],
   "source": [
    "### a curve pulled close to the upper left corner indicates a better performance "
   ]
  },
  {
   "cell_type": "markdown",
   "id": "d1e80167",
   "metadata": {},
   "source": [
    "### QUESTION NO - 2"
   ]
  },
  {
   "cell_type": "markdown",
   "id": "51bd0509",
   "metadata": {},
   "source": [
    "**Q - What considerations have been used for model selection?**\n",
    "\n",
    "**Ans** - for model selection my way to select the best model is to feed data to all classification or regression models and compair the accuracy as per our case Random forest is giving more accuracy even after cross validation than other classification models so ill go for Random Forest for my final model Selection"
   ]
  },
  {
   "cell_type": "markdown",
   "id": "15524bde",
   "metadata": {},
   "source": [
    "### QUESTION NO - 11"
   ]
  },
  {
   "cell_type": "markdown",
   "id": "9f9ec7a6",
   "metadata": {},
   "source": [
    "***Q - Comment on any other observations or recommendations based on your analysis***\n",
    "\n",
    "***Ans*** - 1 - by observation we can see that we got 81% accuracy using random forest even after cross validation we can increase the accuracy by changing the default hyperparametrs that we have used during training or also we can go for hyperparameter tuning using grid and randomized search for those default hyperparameters\n",
    "\n",
    "2 - we replaced null values with the most common data in the data frame instead of that we can go for dropping all the null vlaue we might get better accuracy\n",
    "\n",
    "3 - we had some outliers in the dataframe columns but those outliers are important values and cant be ignored so if those values not present in the data set then our model performance might be different"
   ]
  },
  {
   "cell_type": "code",
   "execution_count": null,
   "id": "b4971086",
   "metadata": {},
   "outputs": [],
   "source": []
  }
 ],
 "metadata": {
  "kernelspec": {
   "display_name": "Python 3 (ipykernel)",
   "language": "python",
   "name": "python3"
  },
  "language_info": {
   "codemirror_mode": {
    "name": "ipython",
    "version": 3
   },
   "file_extension": ".py",
   "mimetype": "text/x-python",
   "name": "python",
   "nbconvert_exporter": "python",
   "pygments_lexer": "ipython3",
   "version": "3.10.5"
  }
 },
 "nbformat": 4,
 "nbformat_minor": 5
}
